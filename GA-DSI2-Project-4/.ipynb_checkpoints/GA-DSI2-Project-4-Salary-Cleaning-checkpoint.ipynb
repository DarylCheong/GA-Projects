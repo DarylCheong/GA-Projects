{
 "cells": [
  {
   "cell_type": "markdown",
   "metadata": {},
   "source": [
    "# DSI2 Project 4 - Job Salary Data Cleaning"
   ]
  },
  {
   "cell_type": "code",
   "execution_count": 1,
   "metadata": {
    "collapsed": true
   },
   "outputs": [],
   "source": [
    "import pandas as pd\n",
    "import numpy as np\n",
    "import pickle"
   ]
  },
  {
   "cell_type": "markdown",
   "metadata": {},
   "source": [
    "# Load pickled search results and create csv file"
   ]
  },
  {
   "cell_type": "code",
   "execution_count": 2,
   "metadata": {},
   "outputs": [
    {
     "name": "stdout",
     "output_type": "stream",
     "text": [
      "(10441, 4)\n"
     ]
    },
    {
     "data": {
      "text/html": [
       "<div>\n",
       "<style>\n",
       "    .dataframe thead tr:only-child th {\n",
       "        text-align: right;\n",
       "    }\n",
       "\n",
       "    .dataframe thead th {\n",
       "        text-align: left;\n",
       "    }\n",
       "\n",
       "    .dataframe tbody tr th {\n",
       "        vertical-align: top;\n",
       "    }\n",
       "</style>\n",
       "<table border=\"1\" class=\"dataframe\">\n",
       "  <thead>\n",
       "    <tr style=\"text-align: right;\">\n",
       "      <th></th>\n",
       "      <th>title</th>\n",
       "      <th>company</th>\n",
       "      <th>salary</th>\n",
       "      <th>summary</th>\n",
       "    </tr>\n",
       "  </thead>\n",
       "  <tbody>\n",
       "    <tr>\n",
       "      <th>0</th>\n",
       "      <td>Data Scientist</td>\n",
       "      <td>Accenture</td>\n",
       "      <td>NA</td>\n",
       "      <td>As well as be exposed to the challenges of usi...</td>\n",
       "    </tr>\n",
       "    <tr>\n",
       "      <th>1</th>\n",
       "      <td>Technical Customer Support Engineer</td>\n",
       "      <td>Solace Corporation</td>\n",
       "      <td>NA</td>\n",
       "      <td>Solace technology enables open data movement b...</td>\n",
       "    </tr>\n",
       "    <tr>\n",
       "      <th>2</th>\n",
       "      <td>Management Associate, Europe/Latin America</td>\n",
       "      <td>MyFinB Holdings Pte Ltd</td>\n",
       "      <td>NA</td>\n",
       "      <td>Job Summary Want to have the prospect of worki...</td>\n",
       "    </tr>\n",
       "    <tr>\n",
       "      <th>3</th>\n",
       "      <td>Data Analyst Intern</td>\n",
       "      <td>Clipperdata Asia Pacific Pte. Ltd.</td>\n",
       "      <td>NA</td>\n",
       "      <td>We are currently looking for interns to assist...</td>\n",
       "    </tr>\n",
       "    <tr>\n",
       "      <th>4</th>\n",
       "      <td>URGENT! 3 months Temp Data entry (mon-fri)</td>\n",
       "      <td>Intropls Pte Ltd</td>\n",
       "      <td>$8 an hour</td>\n",
       "      <td>Temporary Data entry needed!!!*. Consolidation...</td>\n",
       "    </tr>\n",
       "    <tr>\n",
       "      <th>5</th>\n",
       "      <td>Data Entry Clerk (Entry Level) Start Urgently</td>\n",
       "      <td>Careeredge Ltd.</td>\n",
       "      <td>NA</td>\n",
       "      <td>We are looking for a bright and motivated data...</td>\n",
       "    </tr>\n",
       "    <tr>\n",
       "      <th>6</th>\n",
       "      <td>Machine Learning / Deep Learning Developer , S...</td>\n",
       "      <td>SAP</td>\n",
       "      <td>NA</td>\n",
       "      <td>Comfortably handle multi-terabyte data sets in...</td>\n",
       "    </tr>\n",
       "    <tr>\n",
       "      <th>7</th>\n",
       "      <td>Part-Time Admin Assistant</td>\n",
       "      <td>Ubi</td>\n",
       "      <td>NA</td>\n",
       "      <td>Looking for an experienced permanent part-time...</td>\n",
       "    </tr>\n",
       "    <tr>\n",
       "      <th>8</th>\n",
       "      <td>Data Entry Clerk</td>\n",
       "      <td>Timezone Singapore</td>\n",
       "      <td>NA</td>\n",
       "      <td>Able to start work immediately Data entry Be a...</td>\n",
       "    </tr>\n",
       "    <tr>\n",
       "      <th>9</th>\n",
       "      <td>Director (Lead), Learning &amp; Development</td>\n",
       "      <td>KPMG Services Limited</td>\n",
       "      <td>NA</td>\n",
       "      <td>Ability to develop surveys and analyze data to...</td>\n",
       "    </tr>\n",
       "    <tr>\n",
       "      <th>10</th>\n",
       "      <td>HR Operations Consultant</td>\n",
       "      <td>Siemens AG</td>\n",
       "      <td>NA</td>\n",
       "      <td>Monitors the effectiveness (accuracy and compl...</td>\n",
       "    </tr>\n",
       "    <tr>\n",
       "      <th>11</th>\n",
       "      <td>Admin Assistant</td>\n",
       "      <td>EC Family Clinic</td>\n",
       "      <td>NA</td>\n",
       "      <td>Administrative duties, data entry and document...</td>\n",
       "    </tr>\n",
       "    <tr>\n",
       "      <th>12</th>\n",
       "      <td>Night Operations Coordinator</td>\n",
       "      <td>i.Log</td>\n",
       "      <td>NA</td>\n",
       "      <td>Night Operations Coordinator Foreigners and Si...</td>\n",
       "    </tr>\n",
       "    <tr>\n",
       "      <th>13</th>\n",
       "      <td>SG-Consultant-Strategy</td>\n",
       "      <td>Deloitte</td>\n",
       "      <td>NA</td>\n",
       "      <td>Managing data collection and analysis; A base ...</td>\n",
       "    </tr>\n",
       "    <tr>\n",
       "      <th>14</th>\n",
       "      <td>Chief Digital Officer, Corporate Solutions APAC</td>\n",
       "      <td>JLL</td>\n",
       "      <td>NA</td>\n",
       "      <td>You will be at the forefront of designing an i...</td>\n",
       "    </tr>\n",
       "    <tr>\n",
       "      <th>15</th>\n",
       "      <td>Data Center Lead</td>\n",
       "      <td>Total IT Consult</td>\n",
       "      <td>$4,000 - $4,500 a month</td>\n",
       "      <td>Point of contact for Data Centre Issue escalat...</td>\n",
       "    </tr>\n",
       "    <tr>\n",
       "      <th>16</th>\n",
       "      <td>Data/Statistics Analysis Intern</td>\n",
       "      <td>StarHub</td>\n",
       "      <td>NA</td>\n",
       "      <td>Involve in Data Analytics. Analytical mind to ...</td>\n",
       "    </tr>\n",
       "    <tr>\n",
       "      <th>17</th>\n",
       "      <td>Data Analysis [Intern or Full Time]</td>\n",
       "      <td>Flocations</td>\n",
       "      <td>NA</td>\n",
       "      <td>Ability to dream of data visualisation. Visual...</td>\n",
       "    </tr>\n",
       "    <tr>\n",
       "      <th>18</th>\n",
       "      <td>Project Engineer – Data Center / M&amp;E / Constru...</td>\n",
       "      <td>MCI Career Services Pte Ltd</td>\n",
       "      <td>$2,500 - $4,000 a month</td>\n",
       "      <td>M&amp;E Data Center project:. Established M&amp;E engi...</td>\n",
       "    </tr>\n",
       "    <tr>\n",
       "      <th>19</th>\n",
       "      <td>Part Time Data Entry - $7 per hour</td>\n",
       "      <td>The Supreme HR Advisory Pte Ltd</td>\n",
       "      <td>NA</td>\n",
       "      <td>Mark Wong Business Development Manager Reg No:...</td>\n",
       "    </tr>\n",
       "  </tbody>\n",
       "</table>\n",
       "</div>"
      ],
      "text/plain": [
       "                                                title  \\\n",
       "0                                      Data Scientist   \n",
       "1                 Technical Customer Support Engineer   \n",
       "2          Management Associate, Europe/Latin America   \n",
       "3                                 Data Analyst Intern   \n",
       "4          URGENT! 3 months Temp Data entry (mon-fri)   \n",
       "5       Data Entry Clerk (Entry Level) Start Urgently   \n",
       "6   Machine Learning / Deep Learning Developer , S...   \n",
       "7                           Part-Time Admin Assistant   \n",
       "8                                    Data Entry Clerk   \n",
       "9             Director (Lead), Learning & Development   \n",
       "10                           HR Operations Consultant   \n",
       "11                                    Admin Assistant   \n",
       "12                       Night Operations Coordinator   \n",
       "13                             SG-Consultant-Strategy   \n",
       "14    Chief Digital Officer, Corporate Solutions APAC   \n",
       "15                                   Data Center Lead   \n",
       "16                    Data/Statistics Analysis Intern   \n",
       "17                Data Analysis [Intern or Full Time]   \n",
       "18  Project Engineer – Data Center / M&E / Constru...   \n",
       "19                 Part Time Data Entry - $7 per hour   \n",
       "\n",
       "                               company                   salary  \\\n",
       "0                            Accenture                       NA   \n",
       "1                   Solace Corporation                       NA   \n",
       "2              MyFinB Holdings Pte Ltd                       NA   \n",
       "3   Clipperdata Asia Pacific Pte. Ltd.                       NA   \n",
       "4                     Intropls Pte Ltd               $8 an hour   \n",
       "5                      Careeredge Ltd.                       NA   \n",
       "6                                  SAP                       NA   \n",
       "7                                  Ubi                       NA   \n",
       "8                   Timezone Singapore                       NA   \n",
       "9                KPMG Services Limited                       NA   \n",
       "10                          Siemens AG                       NA   \n",
       "11                    EC Family Clinic                       NA   \n",
       "12                               i.Log                       NA   \n",
       "13                            Deloitte                       NA   \n",
       "14                                 JLL                       NA   \n",
       "15                    Total IT Consult  $4,000 - $4,500 a month   \n",
       "16                             StarHub                       NA   \n",
       "17                          Flocations                       NA   \n",
       "18         MCI Career Services Pte Ltd  $2,500 - $4,000 a month   \n",
       "19     The Supreme HR Advisory Pte Ltd                       NA   \n",
       "\n",
       "                                              summary  \n",
       "0   As well as be exposed to the challenges of usi...  \n",
       "1   Solace technology enables open data movement b...  \n",
       "2   Job Summary Want to have the prospect of worki...  \n",
       "3   We are currently looking for interns to assist...  \n",
       "4   Temporary Data entry needed!!!*. Consolidation...  \n",
       "5   We are looking for a bright and motivated data...  \n",
       "6   Comfortably handle multi-terabyte data sets in...  \n",
       "7   Looking for an experienced permanent part-time...  \n",
       "8   Able to start work immediately Data entry Be a...  \n",
       "9   Ability to develop surveys and analyze data to...  \n",
       "10  Monitors the effectiveness (accuracy and compl...  \n",
       "11  Administrative duties, data entry and document...  \n",
       "12  Night Operations Coordinator Foreigners and Si...  \n",
       "13  Managing data collection and analysis; A base ...  \n",
       "14  You will be at the forefront of designing an i...  \n",
       "15  Point of contact for Data Centre Issue escalat...  \n",
       "16  Involve in Data Analytics. Analytical mind to ...  \n",
       "17  Ability to dream of data visualisation. Visual...  \n",
       "18  M&E Data Center project:. Established M&E engi...  \n",
       "19  Mark Wong Business Development Manager Reg No:...  "
      ]
     },
     "execution_count": 2,
     "metadata": {},
     "output_type": "execute_result"
    }
   ],
   "source": [
    "# Load pickle data.\n",
    "\n",
    "pickle_in = open(\"jobs.pickle\",\"rb\")\n",
    "jobs = pickle.load(pickle_in)\n",
    "print jobs.shape\n",
    "jobs.head(20)"
   ]
  },
  {
   "cell_type": "code",
   "execution_count": 3,
   "metadata": {
    "collapsed": true
   },
   "outputs": [],
   "source": [
    "for col in ['title', 'company', 'salary', 'summary']:\n",
    "    jobs[col] = jobs[col].str.encode('utf-8').astype(str)"
   ]
  },
  {
   "cell_type": "code",
   "execution_count": 4,
   "metadata": {
    "collapsed": true
   },
   "outputs": [],
   "source": [
    "# create csv file\n",
    "\n",
    "jobs.to_csv('./indeed-results.csv', index=False, encoding='utf-8')"
   ]
  },
  {
   "cell_type": "code",
   "execution_count": 5,
   "metadata": {
    "collapsed": true
   },
   "outputs": [],
   "source": [
    "# load csv file\n",
    "\n",
    "jobs = pd.read_csv('./indeed-results.csv')"
   ]
  },
  {
   "cell_type": "markdown",
   "metadata": {},
   "source": [
    "# Clean 'salary' column"
   ]
  },
  {
   "cell_type": "code",
   "execution_count": 6,
   "metadata": {},
   "outputs": [
    {
     "data": {
      "text/html": [
       "<div>\n",
       "<style>\n",
       "    .dataframe thead tr:only-child th {\n",
       "        text-align: right;\n",
       "    }\n",
       "\n",
       "    .dataframe thead th {\n",
       "        text-align: left;\n",
       "    }\n",
       "\n",
       "    .dataframe tbody tr th {\n",
       "        vertical-align: top;\n",
       "    }\n",
       "</style>\n",
       "<table border=\"1\" class=\"dataframe\">\n",
       "  <thead>\n",
       "    <tr style=\"text-align: right;\">\n",
       "      <th></th>\n",
       "      <th>title</th>\n",
       "      <th>company</th>\n",
       "      <th>salary</th>\n",
       "      <th>summary</th>\n",
       "    </tr>\n",
       "  </thead>\n",
       "  <tbody>\n",
       "    <tr>\n",
       "      <th>4</th>\n",
       "      <td>URGENT! 3 months Temp Data entry (mon-fri)</td>\n",
       "      <td>Intropls Pte Ltd</td>\n",
       "      <td>$8 an hour</td>\n",
       "      <td>Temporary Data entry needed!!!*. Consolidation...</td>\n",
       "    </tr>\n",
       "    <tr>\n",
       "      <th>15</th>\n",
       "      <td>Data Center Lead</td>\n",
       "      <td>Total IT Consult</td>\n",
       "      <td>$4,000 - $4,500 a month</td>\n",
       "      <td>Point of contact for Data Centre Issue escalat...</td>\n",
       "    </tr>\n",
       "    <tr>\n",
       "      <th>18</th>\n",
       "      <td>Project Engineer – Data Center / M&amp;E / Constru...</td>\n",
       "      <td>MCI Career Services Pte Ltd</td>\n",
       "      <td>$2,500 - $4,000 a month</td>\n",
       "      <td>M&amp;E Data Center project:. Established M&amp;E engi...</td>\n",
       "    </tr>\n",
       "    <tr>\n",
       "      <th>26</th>\n",
       "      <td>Admin - Data Entry</td>\n",
       "      <td>Dynamic Safety Pte Ltd</td>\n",
       "      <td>$1,800 - $2,000 a month</td>\n",
       "      <td>Reporting problems with the data. Organizing f...</td>\n",
       "    </tr>\n",
       "    <tr>\n",
       "      <th>54</th>\n",
       "      <td>Panel Assistant - Market Research (Freelance 4...</td>\n",
       "      <td>GfK Asia Pte Ltd</td>\n",
       "      <td>$8 - $10 an hour</td>\n",
       "      <td>Management of panel members and data collectio...</td>\n",
       "    </tr>\n",
       "  </tbody>\n",
       "</table>\n",
       "</div>"
      ],
      "text/plain": [
       "                                                title  \\\n",
       "4          URGENT! 3 months Temp Data entry (mon-fri)   \n",
       "15                                   Data Center Lead   \n",
       "18  Project Engineer – Data Center / M&E / Constru...   \n",
       "26                                 Admin - Data Entry   \n",
       "54  Panel Assistant - Market Research (Freelance 4...   \n",
       "\n",
       "                        company                   salary  \\\n",
       "4              Intropls Pte Ltd               $8 an hour   \n",
       "15             Total IT Consult  $4,000 - $4,500 a month   \n",
       "18  MCI Career Services Pte Ltd  $2,500 - $4,000 a month   \n",
       "26       Dynamic Safety Pte Ltd  $1,800 - $2,000 a month   \n",
       "54             GfK Asia Pte Ltd         $8 - $10 an hour   \n",
       "\n",
       "                                              summary  \n",
       "4   Temporary Data entry needed!!!*. Consolidation...  \n",
       "15  Point of contact for Data Centre Issue escalat...  \n",
       "18  M&E Data Center project:. Established M&E engi...  \n",
       "26  Reporting problems with the data. Organizing f...  \n",
       "54  Management of panel members and data collectio...  "
      ]
     },
     "execution_count": 6,
     "metadata": {},
     "output_type": "execute_result"
    }
   ],
   "source": [
    "# Filter out jobs with salary.\n",
    "\n",
    "salary = jobs[jobs['salary'].notnull()]\n",
    "salary.head()"
   ]
  },
  {
   "cell_type": "code",
   "execution_count": 7,
   "metadata": {},
   "outputs": [
    {
     "data": {
      "text/plain": [
       "$3,000 - $4,200 a month     182\n",
       "$2,000 - $2,200 a month      93\n",
       "$3,500 - $5,000 a month      92\n",
       "$7,000 - $10,000 a month     92\n",
       "$4,000 - $5,000 a month      89\n",
       "$2,800 - $3,400 a month      89\n",
       "$1,800 - $2,300 a month       6\n",
       "$7 - $8 an hour               5\n",
       "$2,200 - $3,000 a month       3\n",
       "$2,000 - $2,500 a month       3\n",
       "$2,500 - $4,000 a month       3\n",
       "$1,800 - $2,000 a month       3\n",
       "$4,500 - $5,500 a month       3\n",
       "$1,500 - $1,700 a month       3\n",
       "$2,500 - $3,500 a month       3\n",
       "$8 - $10 an hour              2\n",
       "$3,000 - $5,000 a month       2\n",
       "$1,800 - $2,600 a month       1\n",
       "$2,400 - $3,000 a month       1\n",
       "$2,500 - $4,200 a month       1\n",
       "$1,500 a month                1\n",
       "$4,700 - $5,000 a month       1\n",
       "$3,700 - $5,000 a month       1\n",
       "$2,500 - $2,800 a month       1\n",
       "$2,000 - $3,000 a month       1\n",
       "$36,000 - $72,000 a year      1\n",
       "$2,800 - $3,500 a month       1\n",
       "$1,300 - $1,700 a month       1\n",
       "$1,650 a month                1\n",
       "$1,400 - $2,000 a month       1\n",
       "$1,700 a month                1\n",
       "$1,200 - $1,800 a month       1\n",
       "$1,200 - $1,500 a month       1\n",
       "$2,500 - $3,000 a month       1\n",
       "$2,500 a month                1\n",
       "$1,800 - $2,800 a month       1\n",
       "$2,300 - $2,800 a month       1\n",
       "$1,300 - $1,301 a month       1\n",
       "$4,000 - $4,500 a month       1\n",
       "$2,300 - $3,000 a month       1\n",
       "$1,400 - $1,700 a month       1\n",
       "$1,700 - $1,900 a month       1\n",
       "$7 an hour                    1\n",
       "$1,500 - $2,000 a month       1\n",
       "$1,000 - $1,500 a month       1\n",
       "$1,600 - $2,000 a month       1\n",
       "$2,200 a month                1\n",
       "$1,700 - $2,000 a month       1\n",
       "$1,800 a month                1\n",
       "$1,500 - $2,200 a month       1\n",
       "$1,200 - $1,900 a month       1\n",
       "$8 an hour                    1\n",
       "$900 - $1,100 a month         1\n",
       "$2,000 - $2,600 a month       1\n",
       "$1,850 - $2,050 a month       1\n",
       "Name: salary, dtype: int64"
      ]
     },
     "execution_count": 7,
     "metadata": {},
     "output_type": "execute_result"
    }
   ],
   "source": [
    "# Filter out full time jobs with monthly salary.\n",
    "\n",
    "salary['salary'].value_counts()"
   ]
  },
  {
   "cell_type": "code",
   "execution_count": 8,
   "metadata": {},
   "outputs": [
    {
     "name": "stdout",
     "output_type": "stream",
     "text": [
      "(711, 4)\n",
      "(9, 4)\n",
      "(702, 4)\n"
     ]
    }
   ],
   "source": [
    "# Drop rows with hourly salary.\n",
    "\n",
    "print salary.shape\n",
    "print salary[salary['salary'].str.contains('an hour')].shape\n",
    "salary = salary.drop(salary[salary['salary'].str.contains('an hour')].index)\n",
    "print salary.shape"
   ]
  },
  {
   "cell_type": "code",
   "execution_count": 9,
   "metadata": {},
   "outputs": [
    {
     "data": {
      "text/plain": [
       "3000 - 4200             182\n",
       "2000 - 2200              93\n",
       "7000 - 10000             92\n",
       "3500 - 5000              92\n",
       "4000 - 5000              89\n",
       "2800 - 3400              89\n",
       "1800 - 2300               6\n",
       "4500 - 5500               3\n",
       "2500 - 4000               3\n",
       "1800 - 2000               3\n",
       "2500 - 3500               3\n",
       "2200 - 3000               3\n",
       "2000 - 2500               3\n",
       "1500 - 1700               3\n",
       "3000 - 5000               2\n",
       "1500 - 2200               1\n",
       "36000 - 72000 a year      1\n",
       "1800 - 2600               1\n",
       "4700 - 5000               1\n",
       "1800                      1\n",
       "1600 - 2000               1\n",
       "2500 - 4200               1\n",
       "1300 - 1700               1\n",
       "1200 - 1900               1\n",
       "1400 - 1700               1\n",
       "1700 - 2000               1\n",
       "2300 - 2800               1\n",
       "2000 - 2600               1\n",
       "1700                      1\n",
       "2400 - 3000               1\n",
       "1500                      1\n",
       "1000 - 1500               1\n",
       "1650                      1\n",
       "1200 - 1800               1\n",
       "2500                      1\n",
       "2800 - 3500               1\n",
       "2500 - 3000               1\n",
       "1700 - 1900               1\n",
       "1300 - 1301               1\n",
       "2500 - 2800               1\n",
       "2000 - 3000               1\n",
       "1850 - 2050               1\n",
       "2200                      1\n",
       "2300 - 3000               1\n",
       "1400 - 2000               1\n",
       "1200 - 1500               1\n",
       "1500 - 2000               1\n",
       "4000 - 4500               1\n",
       "900 - 1100                1\n",
       "3700 - 5000               1\n",
       "1800 - 2800               1\n",
       "Name: salary, dtype: int64"
      ]
     },
     "execution_count": 9,
     "metadata": {},
     "output_type": "execute_result"
    }
   ],
   "source": [
    "# Remove symbols and text.\n",
    "\n",
    "salary['salary'] = salary['salary'].str.replace('a month', '').str.replace(',', '').str.replace('$', '')\n",
    "salary['salary'].value_counts()"
   ]
  },
  {
   "cell_type": "code",
   "execution_count": 10,
   "metadata": {
    "collapsed": true
   },
   "outputs": [],
   "source": [
    "# Change yearly salary to monthly salary.\n",
    "\n",
    "salary['salary'] = salary['salary'].str.replace('36000 - 72000 a year', '3000 - 6000')"
   ]
  },
  {
   "cell_type": "code",
   "execution_count": 11,
   "metadata": {
    "collapsed": true
   },
   "outputs": [],
   "source": [
    "# remove empty spaces and convert salary range to average monthly salary.\n",
    "\n",
    "salary['salary'] = salary['salary'].str.replace(' ', '')\n",
    "salary['salary'] = salary['salary'].map(lambda x: x.split('-'))\n",
    "salary['salary'] = salary['salary'].map(lambda x: (float(x[0]) + float(x[1]))/2 if len(x) > 1\n",
    "                                       else float(x[0]))"
   ]
  },
  {
   "cell_type": "code",
   "execution_count": 12,
   "metadata": {},
   "outputs": [
    {
     "data": {
      "text/plain": [
       "3600.0    182\n",
       "4250.0     93\n",
       "2100.0     93\n",
       "8500.0     92\n",
       "4500.0     90\n",
       "3100.0     89\n",
       "2050.0      6\n",
       "5000.0      3\n",
       "3250.0      3\n",
       "1800.0      3\n",
       "1500.0      3\n",
       "1900.0      3\n",
       "3000.0      3\n",
       "2600.0      3\n",
       "2250.0      3\n",
       "1600.0      3\n",
       "1850.0      2\n",
       "2300.0      2\n",
       "4000.0      2\n",
       "1550.0      2\n",
       "2500.0      2\n",
       "2650.0      2\n",
       "2200.0      2\n",
       "1700.0      2\n",
       "2550.0      1\n",
       "4850.0      1\n",
       "1350.0      1\n",
       "1000.0      1\n",
       "3150.0      1\n",
       "1250.0      1\n",
       "1750.0      1\n",
       "2700.0      1\n",
       "1650.0      1\n",
       "1300.5      1\n",
       "4350.0      1\n",
       "1950.0      1\n",
       "3350.0      1\n",
       "2750.0      1\n",
       "Name: salary, dtype: int64"
      ]
     },
     "execution_count": 12,
     "metadata": {},
     "output_type": "execute_result"
    }
   ],
   "source": [
    "salary['salary'].value_counts()"
   ]
  },
  {
   "cell_type": "code",
   "execution_count": 13,
   "metadata": {
    "collapsed": true
   },
   "outputs": [],
   "source": [
    "pickle_out = open(\"salary.pickle\",\"wb\")\n",
    "pickle.dump(salary, pickle_out)\n",
    "pickle_out.close()"
   ]
  },
  {
   "cell_type": "code",
   "execution_count": null,
   "metadata": {
    "collapsed": true
   },
   "outputs": [],
   "source": []
  },
  {
   "cell_type": "code",
   "execution_count": null,
   "metadata": {
    "collapsed": true
   },
   "outputs": [],
   "source": []
  },
  {
   "cell_type": "code",
   "execution_count": null,
   "metadata": {
    "collapsed": true
   },
   "outputs": [],
   "source": []
  },
  {
   "cell_type": "code",
   "execution_count": null,
   "metadata": {
    "collapsed": true
   },
   "outputs": [],
   "source": []
  },
  {
   "cell_type": "code",
   "execution_count": null,
   "metadata": {
    "collapsed": true
   },
   "outputs": [],
   "source": []
  },
  {
   "cell_type": "code",
   "execution_count": null,
   "metadata": {
    "collapsed": true
   },
   "outputs": [],
   "source": []
  },
  {
   "cell_type": "code",
   "execution_count": null,
   "metadata": {
    "collapsed": true
   },
   "outputs": [],
   "source": []
  }
 ],
 "metadata": {
  "kernelspec": {
   "display_name": "Python 2",
   "language": "python",
   "name": "python2"
  },
  "language_info": {
   "codemirror_mode": {
    "name": "ipython",
    "version": 2
   },
   "file_extension": ".py",
   "mimetype": "text/x-python",
   "name": "python",
   "nbconvert_exporter": "python",
   "pygments_lexer": "ipython2",
   "version": "2.7.14"
  }
 },
 "nbformat": 4,
 "nbformat_minor": 2
}
