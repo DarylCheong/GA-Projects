{
 "cells": [
  {
   "cell_type": "markdown",
   "metadata": {},
   "source": [
    "# DSI2 Project 4 - Job Salary Web Scraping"
   ]
  },
  {
   "cell_type": "code",
   "execution_count": 1,
   "metadata": {
    "collapsed": true
   },
   "outputs": [],
   "source": [
    "import requests\n",
    "from bs4 import BeautifulSoup\n",
    "\n",
    "import pandas as pd\n",
    "import numpy as np"
   ]
  },
  {
   "cell_type": "code",
   "execution_count": 2,
   "metadata": {},
   "outputs": [
    {
     "name": "stdout",
     "output_type": "stream",
     "text": [
      "10441\n"
     ]
    }
   ],
   "source": [
    "# Scrap indeed.com search results based on the search keyword 'data', and append into an empty list.\n",
    "\n",
    "results = []\n",
    "\n",
    "for search in range(50, 10000, 50):\n",
    "    r = requests.get(\"https://www.indeed.com.sg/jobs?q=data&l=Singapore&limit=50&radius=10&start=\" + str(search))\n",
    "    soup = BeautifulSoup(r.text, 'html.parser')\n",
    "    for result in soup.find_all('div', attrs={'class': ['row result', ' row result']}):\n",
    "        results.append(result)\n",
    "\n",
    "print len(results)"
   ]
  },
  {
   "cell_type": "code",
   "execution_count": 13,
   "metadata": {
    "collapsed": true
   },
   "outputs": [],
   "source": [
    "# Function to pull out the job title.\n",
    "\n",
    "def get_title(result):\n",
    "    try:\n",
    "        return result.find('a', {'data-tn-element': 'jobTitle'}).text\n",
    "    except:\n",
    "        return 'NA'"
   ]
  },
  {
   "cell_type": "code",
   "execution_count": 14,
   "metadata": {
    "collapsed": true
   },
   "outputs": [],
   "source": [
    "# Function to pull out the company name.\n",
    "\n",
    "def get_company(result):\n",
    "    try:\n",
    "        return result.find('span', {'class': 'company'}).text.strip()\n",
    "    except:\n",
    "        return 'NA'"
   ]
  },
  {
   "cell_type": "code",
   "execution_count": 15,
   "metadata": {
    "collapsed": true
   },
   "outputs": [],
   "source": [
    "# Function to pull out the salary.\n",
    "\n",
    "def get_salary(result):\n",
    "    try:\n",
    "        return result.find('span', {'class': 'no-wrap'}).text.strip()\n",
    "    except:\n",
    "        return 'NA'"
   ]
  },
  {
   "cell_type": "code",
   "execution_count": 16,
   "metadata": {
    "collapsed": true
   },
   "outputs": [],
   "source": [
    "# Function to pull out the job description summary.\n",
    "\n",
    "def get_summary(result):\n",
    "    try:\n",
    "        return result.find('span', {'class': 'summary'}).text.strip()\n",
    "    except:\n",
    "        return 'NA'"
   ]
  },
  {
   "cell_type": "code",
   "execution_count": 17,
   "metadata": {
    "collapsed": true
   },
   "outputs": [],
   "source": [
    "# Itialize an empty dataframe.\n",
    "\n",
    "jobs = pd.DataFrame(columns=['title', 'company', 'salary', 'summary'])"
   ]
  },
  {
   "cell_type": "code",
   "execution_count": 18,
   "metadata": {
    "collapsed": true
   },
   "outputs": [],
   "source": [
    "# Use functions to pull out the relevant data and put into the dataframe.\n",
    "\n",
    "for entry in results:\n",
    "    title = get_title(entry)\n",
    "    company = get_company(entry)\n",
    "    salary = get_salary(entry)\n",
    "    summary = get_summary(entry)\n",
    "    jobs.loc[len(jobs)] = [title, company, salary, summary]"
   ]
  },
  {
   "cell_type": "code",
   "execution_count": 19,
   "metadata": {},
   "outputs": [
    {
     "name": "stdout",
     "output_type": "stream",
     "text": [
      "(10441, 4)\n"
     ]
    },
    {
     "data": {
      "text/html": [
       "<div>\n",
       "<style>\n",
       "    .dataframe thead tr:only-child th {\n",
       "        text-align: right;\n",
       "    }\n",
       "\n",
       "    .dataframe thead th {\n",
       "        text-align: left;\n",
       "    }\n",
       "\n",
       "    .dataframe tbody tr th {\n",
       "        vertical-align: top;\n",
       "    }\n",
       "</style>\n",
       "<table border=\"1\" class=\"dataframe\">\n",
       "  <thead>\n",
       "    <tr style=\"text-align: right;\">\n",
       "      <th></th>\n",
       "      <th>title</th>\n",
       "      <th>company</th>\n",
       "      <th>salary</th>\n",
       "      <th>summary</th>\n",
       "    </tr>\n",
       "  </thead>\n",
       "  <tbody>\n",
       "    <tr>\n",
       "      <th>0</th>\n",
       "      <td>Data Scientist</td>\n",
       "      <td>Accenture</td>\n",
       "      <td>NA</td>\n",
       "      <td>As well as be exposed to the challenges of usi...</td>\n",
       "    </tr>\n",
       "    <tr>\n",
       "      <th>1</th>\n",
       "      <td>Technical Customer Support Engineer</td>\n",
       "      <td>Solace Corporation</td>\n",
       "      <td>NA</td>\n",
       "      <td>Solace technology enables open data movement b...</td>\n",
       "    </tr>\n",
       "    <tr>\n",
       "      <th>2</th>\n",
       "      <td>Management Associate, Europe/Latin America</td>\n",
       "      <td>MyFinB Holdings Pte Ltd</td>\n",
       "      <td>NA</td>\n",
       "      <td>Job Summary Want to have the prospect of worki...</td>\n",
       "    </tr>\n",
       "    <tr>\n",
       "      <th>3</th>\n",
       "      <td>Data Analyst Intern</td>\n",
       "      <td>Clipperdata Asia Pacific Pte. Ltd.</td>\n",
       "      <td>NA</td>\n",
       "      <td>We are currently looking for interns to assist...</td>\n",
       "    </tr>\n",
       "    <tr>\n",
       "      <th>4</th>\n",
       "      <td>URGENT! 3 months Temp Data entry (mon-fri)</td>\n",
       "      <td>Intropls Pte Ltd</td>\n",
       "      <td>$8 an hour</td>\n",
       "      <td>Temporary Data entry needed!!!*. Consolidation...</td>\n",
       "    </tr>\n",
       "    <tr>\n",
       "      <th>5</th>\n",
       "      <td>Data Entry Clerk (Entry Level) Start Urgently</td>\n",
       "      <td>Careeredge Ltd.</td>\n",
       "      <td>NA</td>\n",
       "      <td>We are looking for a bright and motivated data...</td>\n",
       "    </tr>\n",
       "    <tr>\n",
       "      <th>6</th>\n",
       "      <td>Machine Learning / Deep Learning Developer , S...</td>\n",
       "      <td>SAP</td>\n",
       "      <td>NA</td>\n",
       "      <td>Comfortably handle multi-terabyte data sets in...</td>\n",
       "    </tr>\n",
       "    <tr>\n",
       "      <th>7</th>\n",
       "      <td>Part-Time Admin Assistant</td>\n",
       "      <td>Ubi</td>\n",
       "      <td>NA</td>\n",
       "      <td>Looking for an experienced permanent part-time...</td>\n",
       "    </tr>\n",
       "    <tr>\n",
       "      <th>8</th>\n",
       "      <td>Data Entry Clerk</td>\n",
       "      <td>Timezone Singapore</td>\n",
       "      <td>NA</td>\n",
       "      <td>Able to start work immediately Data entry Be a...</td>\n",
       "    </tr>\n",
       "    <tr>\n",
       "      <th>9</th>\n",
       "      <td>Director (Lead), Learning &amp; Development</td>\n",
       "      <td>KPMG Services Limited</td>\n",
       "      <td>NA</td>\n",
       "      <td>Ability to develop surveys and analyze data to...</td>\n",
       "    </tr>\n",
       "    <tr>\n",
       "      <th>10</th>\n",
       "      <td>HR Operations Consultant</td>\n",
       "      <td>Siemens AG</td>\n",
       "      <td>NA</td>\n",
       "      <td>Monitors the effectiveness (accuracy and compl...</td>\n",
       "    </tr>\n",
       "    <tr>\n",
       "      <th>11</th>\n",
       "      <td>Admin Assistant</td>\n",
       "      <td>EC Family Clinic</td>\n",
       "      <td>NA</td>\n",
       "      <td>Administrative duties, data entry and document...</td>\n",
       "    </tr>\n",
       "    <tr>\n",
       "      <th>12</th>\n",
       "      <td>Night Operations Coordinator</td>\n",
       "      <td>i.Log</td>\n",
       "      <td>NA</td>\n",
       "      <td>Night Operations Coordinator Foreigners and Si...</td>\n",
       "    </tr>\n",
       "    <tr>\n",
       "      <th>13</th>\n",
       "      <td>SG-Consultant-Strategy</td>\n",
       "      <td>Deloitte</td>\n",
       "      <td>NA</td>\n",
       "      <td>Managing data collection and analysis; A base ...</td>\n",
       "    </tr>\n",
       "    <tr>\n",
       "      <th>14</th>\n",
       "      <td>Chief Digital Officer, Corporate Solutions APAC</td>\n",
       "      <td>JLL</td>\n",
       "      <td>NA</td>\n",
       "      <td>You will be at the forefront of designing an i...</td>\n",
       "    </tr>\n",
       "    <tr>\n",
       "      <th>15</th>\n",
       "      <td>Data Center Lead</td>\n",
       "      <td>Total IT Consult</td>\n",
       "      <td>$4,000 - $4,500 a month</td>\n",
       "      <td>Point of contact for Data Centre Issue escalat...</td>\n",
       "    </tr>\n",
       "    <tr>\n",
       "      <th>16</th>\n",
       "      <td>Data/Statistics Analysis Intern</td>\n",
       "      <td>StarHub</td>\n",
       "      <td>NA</td>\n",
       "      <td>Involve in Data Analytics. Analytical mind to ...</td>\n",
       "    </tr>\n",
       "    <tr>\n",
       "      <th>17</th>\n",
       "      <td>Data Analysis [Intern or Full Time]</td>\n",
       "      <td>Flocations</td>\n",
       "      <td>NA</td>\n",
       "      <td>Ability to dream of data visualisation. Visual...</td>\n",
       "    </tr>\n",
       "    <tr>\n",
       "      <th>18</th>\n",
       "      <td>Project Engineer – Data Center / M&amp;E / Constru...</td>\n",
       "      <td>MCI Career Services Pte Ltd</td>\n",
       "      <td>$2,500 - $4,000 a month</td>\n",
       "      <td>M&amp;E Data Center project:. Established M&amp;E engi...</td>\n",
       "    </tr>\n",
       "    <tr>\n",
       "      <th>19</th>\n",
       "      <td>Part Time Data Entry - $7 per hour</td>\n",
       "      <td>The Supreme HR Advisory Pte Ltd</td>\n",
       "      <td>NA</td>\n",
       "      <td>Mark Wong Business Development Manager Reg No:...</td>\n",
       "    </tr>\n",
       "  </tbody>\n",
       "</table>\n",
       "</div>"
      ],
      "text/plain": [
       "                                                title  \\\n",
       "0                                      Data Scientist   \n",
       "1                 Technical Customer Support Engineer   \n",
       "2          Management Associate, Europe/Latin America   \n",
       "3                                 Data Analyst Intern   \n",
       "4          URGENT! 3 months Temp Data entry (mon-fri)   \n",
       "5       Data Entry Clerk (Entry Level) Start Urgently   \n",
       "6   Machine Learning / Deep Learning Developer , S...   \n",
       "7                           Part-Time Admin Assistant   \n",
       "8                                    Data Entry Clerk   \n",
       "9             Director (Lead), Learning & Development   \n",
       "10                           HR Operations Consultant   \n",
       "11                                    Admin Assistant   \n",
       "12                       Night Operations Coordinator   \n",
       "13                             SG-Consultant-Strategy   \n",
       "14    Chief Digital Officer, Corporate Solutions APAC   \n",
       "15                                   Data Center Lead   \n",
       "16                    Data/Statistics Analysis Intern   \n",
       "17                Data Analysis [Intern or Full Time]   \n",
       "18  Project Engineer – Data Center / M&E / Constru...   \n",
       "19                 Part Time Data Entry - $7 per hour   \n",
       "\n",
       "                               company                   salary  \\\n",
       "0                            Accenture                       NA   \n",
       "1                   Solace Corporation                       NA   \n",
       "2              MyFinB Holdings Pte Ltd                       NA   \n",
       "3   Clipperdata Asia Pacific Pte. Ltd.                       NA   \n",
       "4                     Intropls Pte Ltd               $8 an hour   \n",
       "5                      Careeredge Ltd.                       NA   \n",
       "6                                  SAP                       NA   \n",
       "7                                  Ubi                       NA   \n",
       "8                   Timezone Singapore                       NA   \n",
       "9                KPMG Services Limited                       NA   \n",
       "10                          Siemens AG                       NA   \n",
       "11                    EC Family Clinic                       NA   \n",
       "12                               i.Log                       NA   \n",
       "13                            Deloitte                       NA   \n",
       "14                                 JLL                       NA   \n",
       "15                    Total IT Consult  $4,000 - $4,500 a month   \n",
       "16                             StarHub                       NA   \n",
       "17                          Flocations                       NA   \n",
       "18         MCI Career Services Pte Ltd  $2,500 - $4,000 a month   \n",
       "19     The Supreme HR Advisory Pte Ltd                       NA   \n",
       "\n",
       "                                              summary  \n",
       "0   As well as be exposed to the challenges of usi...  \n",
       "1   Solace technology enables open data movement b...  \n",
       "2   Job Summary Want to have the prospect of worki...  \n",
       "3   We are currently looking for interns to assist...  \n",
       "4   Temporary Data entry needed!!!*. Consolidation...  \n",
       "5   We are looking for a bright and motivated data...  \n",
       "6   Comfortably handle multi-terabyte data sets in...  \n",
       "7   Looking for an experienced permanent part-time...  \n",
       "8   Able to start work immediately Data entry Be a...  \n",
       "9   Ability to develop surveys and analyze data to...  \n",
       "10  Monitors the effectiveness (accuracy and compl...  \n",
       "11  Administrative duties, data entry and document...  \n",
       "12  Night Operations Coordinator Foreigners and Si...  \n",
       "13  Managing data collection and analysis; A base ...  \n",
       "14  You will be at the forefront of designing an i...  \n",
       "15  Point of contact for Data Centre Issue escalat...  \n",
       "16  Involve in Data Analytics. Analytical mind to ...  \n",
       "17  Ability to dream of data visualisation. Visual...  \n",
       "18  M&E Data Center project:. Established M&E engi...  \n",
       "19  Mark Wong Business Development Manager Reg No:...  "
      ]
     },
     "execution_count": 19,
     "metadata": {},
     "output_type": "execute_result"
    }
   ],
   "source": [
    "print jobs.shape\n",
    "jobs.head(20)"
   ]
  },
  {
   "cell_type": "code",
   "execution_count": 20,
   "metadata": {
    "collapsed": true
   },
   "outputs": [],
   "source": [
    "import pickle\n",
    "\n",
    "pickle_out = open(\"jobs.pickle\",\"wb\")\n",
    "pickle.dump(jobs, pickle_out)\n",
    "pickle_out.close()"
   ]
  },
  {
   "cell_type": "code",
   "execution_count": null,
   "metadata": {
    "collapsed": true
   },
   "outputs": [],
   "source": []
  }
 ],
 "metadata": {
  "kernelspec": {
   "display_name": "Python 2",
   "language": "python",
   "name": "python2"
  },
  "language_info": {
   "codemirror_mode": {
    "name": "ipython",
    "version": 2
   },
   "file_extension": ".py",
   "mimetype": "text/x-python",
   "name": "python",
   "nbconvert_exporter": "python",
   "pygments_lexer": "ipython2",
   "version": "2.7.14"
  }
 },
 "nbformat": 4,
 "nbformat_minor": 2
}
